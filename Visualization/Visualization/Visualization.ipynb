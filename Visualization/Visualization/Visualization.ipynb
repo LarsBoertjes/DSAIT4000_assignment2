{
 "cells": [
  {
   "cell_type": "markdown",
   "metadata": {
    "deletable": false,
    "editable": false,
    "nbgrader": {
     "cell_type": "markdown",
     "checksum": "802787f89e3de791aa3a52d6c2815638",
     "grade": false,
     "grade_id": "cell-1f67506aa8a48771",
     "locked": true,
     "schema_version": 3,
     "solution": false,
     "task": false
    },
    "tags": []
   },
   "source": [
    "# Assignment - Visualization\n",
    "\n",
    "Make sure to **read the instructions** completely. Failing to follow the instructions will have a negative impact on your grade!\n",
    "\n",
    "In this assignment, we will explore ways to visualize the data, starting with simple plots for early exploration and build towards more interactive methods. As we want to go beyond static plots possible with for example matplotlib or seaborn, we will use the [Bokeh](https://www.bokeh.org/) library. This means the exercises **must** be implemented with Bokeh to receive points.\n",
    "\n",
    "This assignment includes four parts (Assignmets V.1 to V.4) which provide different amounts of points. V.1 to V.3 are independent assignments, but V.4 builds on the previous assignments.\n",
    " \n",
    "**Before you submit**, make sure that you are not accidentaly using any global variables. Restart the kernel (wiping all global variables) and run the code from top to bottom by clicking \"Kernel\" => \"Restart & Run all\" in the menu bar at the top.\n",
    "\n",
    "### API documentation\n",
    "\n",
    "note: you can find the used versions by checking the `environment.yml` file or `running conda list -n dsait4000vis` from the command line\n",
    "\n",
    "* [Bokeh](https://docs.bokeh.org/) (also has examples)\n",
    "* [Pandas](https://pandas.pydata.org/docs/)\n",
    "* [NumPy](https://numpy.org/doc/stable/)\n",
    "* [SciPy](https://docs.scipy.org/doc/scipy/)\n",
    "\n",
    "\n",
    "### Rules\n",
    "For this assignment the following rules apply:\n",
    "\n",
    "**General**\n",
    " * The assignment should be completed in the **groups** you have already assembled for the previous assignment. Work together on all parts and do not distribute the work. Everyone is responsible for everything. That also means if there is fraud in a part it will be considered fraud by the whole group and voids the complete assignment, even if you distributed the parts of the assignment.\n",
    " * Any kind of intergroup discussion will be considered fraud and both the parties will be punished.\n",
    " * All code must be written within group. All external help, with the exception of Python/library documentation and the lecture slides, will be considered fraud.\n",
    " * Do not add any libarires to those already included notebook (i.e., `numpy`, `scipy`, `pandas`, and `bokeh`)\n",
    " * Add functionality from bokeh, like ```from bokeh.io import output_notebook```, on top of the block where you need it.\n",
    " * **Do not rename the notebook file**\n",
    "\n",
    "**Grading**\n",
    " * Exercise may (partially) be graded automatically, using additional hidden tests. These tests will check your solution for different (unseen) inputs.\n",
    " * If these tests pass without error (warnings are allowed) then you receive full points.\n",
    " * Do not make any assumptions on the input data (such as number or type of columns) unless specified otherwise. Doing so may result in the tests failing and thus 0 points.\n",
    " * Your grade is calculated as the sum of the achieved points and will be rounded to the closest 0.1 point.\n",
    " \n",
    "**Submissions**\n",
    " * Submit your code to Brightspace\n",
    " * For this assignment you must *only* submit the notebook (`*.ipynb`) file filled in with your solution.\n",
    " * Refer to Brightspace for the exact deadline.\n",
    " * We will consider submissions that are handed in up to 3 hourse after the deadline but with a penalty as follows:\n",
    " * For every completed 20 minutes past the deadline the grade will be reduced by 0.5 (e.g., with the deadline at 17:00, a submission at 17:19 will get the full grade, a submission at 17:20 will receive a 0.5 grade penalty."
   ]
  },
  {
   "cell_type": "code",
   "execution_count": null,
   "metadata": {
    "deletable": false,
    "editable": false,
    "nbgrader": {
     "cell_type": "code",
     "checksum": "78a96e59177e3f09de6f609fd04f5f2a",
     "grade": false,
     "grade_id": "cell-af387adbd68bc941",
     "locked": true,
     "schema_version": 3,
     "solution": false
    }
   },
   "outputs": [],
   "source": [
    "# We do the basic setup here.\n",
    "# Do not (!) change this cell! All changes will be reset during grading!\n",
    "\n",
    "# numpy and pandas\n",
    "import numpy as np\n",
    "import pandas as pd\n",
    "\n",
    "# We import a range of bokeh functionality that will likely be needed already\n",
    "# if you need more, import it at the top of the corresponding cell\n",
    "from bokeh.plotting import figure, gridplot, show\n",
    "from bokeh.layouts import column\n",
    "from bokeh.transform import factor_cmap, linear_cmap\n",
    "from bokeh.models import ColumnDataSource, HoverTool, NumeralTickFormatter, BasicTicker, PrintfTickFormatter, CustomJS, Select, axes\n",
    "from bokeh.models.annotations import Label\n",
    "from bokeh.io import output_notebook\n",
    "output_notebook() # activate Bokeh output to Jupyter notebook\n",
    "\n",
    "# You can use this to calculate the density plot in Assignment V.3\n",
    "from scipy.stats import gaussian_kde\n",
    "\n",
    "# We load the adult data  (https://archive.ics.uci.edu/dataset/2/adult) as in previous assignments (note, we keep the headers, to use them in the pandas dataframe)\n",
    "# Note: we do not change ? values to nan, but rather keep them as ? so they will be shown in the visualizations\n",
    "data = pd.read_csv(\"datasets/Visualization/adult_all.csv\")\n",
    "\n",
    "data.head()"
   ]
  },
  {
   "cell_type": "markdown",
   "metadata": {
    "deletable": false,
    "editable": false,
    "nbgrader": {
     "cell_type": "markdown",
     "checksum": "ca8f19c3b26240e65c001e56e1cccffd",
     "grade": false,
     "grade_id": "cell-1954251235f8abfb",
     "locked": true,
     "schema_version": 3,
     "solution": false,
     "task": false
    }
   },
   "source": [
    "### Assignment V.1 (5 points)\n",
    "Getting an overview of the data distribution\n",
    "\n",
    "In this first assignment, we want to use visualization to get a quick overview of the distribution of the different attributes/columns. This can often be helpful to make sure that we use models that match the distribution downstream or to quickly identify for example whether the data is distributed over all classes equally if the attribute is intended to be used for training a model.\n",
    "\n",
    "A good way to quickly plot the distribution is a simple bar chart for the column. However, this will only allow us to look at one attribute at a time. In class we have discussed small multiples. We can use this concept to plot all attributes in a grid of plot. \n",
    "\n",
    "For this assignment do the following:\n",
    "* create a grid of bar charts, with one chart per column in the dataset. The attribute values shall be on the x-axis and the count of each value on the y-axis. Look at pandas `value_counts` function to get the latter.\n",
    "  Hint: The `figure()` function works slightly different for numerical and categirucal data.\n",
    "* make sure that the charts and axes are well labeled (for example like in the screenshot below). It will be hard to properly label the x-axis with many items (e.g., native-country). Do this as good as you can, you will likely not find a perfect solution for all attributes.\n",
    "* add a tooltip to show the values on hover (see the education chart, top-right, in the image below)\n",
    "\n",
    "The result should look similar to the below.\n",
    "\n",
    "[<img src=\"assets/barcharts.png\" alt=\"Small Multiples showing the distributions of all columns in the dataset.\" width=\"500\"/>](assets/barcharts.png)"
   ]
  },
  {
   "cell_type": "code",
   "execution_count": null,
   "metadata": {
    "deletable": false,
    "nbgrader": {
     "cell_type": "code",
     "checksum": "66487d9c90b70f948c809719e812348a",
     "grade": true,
     "grade_id": "cell-2d979515fbe86bda",
     "locked": false,
     "points": 2,
     "schema_version": 3,
     "solution": true,
     "task": false
    }
   },
   "outputs": [],
   "source": [
    "# YOUR CODE HERE\n",
    "raise NotImplementedError()"
   ]
  },
  {
   "cell_type": "markdown",
   "metadata": {
    "deletable": false,
    "editable": false,
    "nbgrader": {
     "cell_type": "markdown",
     "checksum": "af8c8e6f9332fa78b2334ba5d4f90ea4",
     "grade": false,
     "grade_id": "cell-776e7cd6e074302b",
     "locked": true,
     "schema_version": 3,
     "solution": false,
     "task": false
    }
   },
   "source": [
    "### Assignment V.2 (5 points)\n",
    "\n",
    "Getting an overview of possible correlations and some interactivity.\n",
    "\n",
    "To keep this simply we only use the numerical variables here. You can use pandas `corr()` [function](https://pandas.pydata.org/pandas-docs/stable/reference/api/pandas.DataFrame.corr.html) directly on the dataframe using the `numeric_only = True` argument. The output will contain only the results from using numerical columns. It should be noted though, that there are also ways to calculate dependencies or correlation between catagorical (e.g., [Chi-Square_test](https://en.wikipedia.org/wiki/Chi-square_test), [Cramér's V](https://en.wikipedia.org/wiki/Cramér%27s_V)) or categorical and numerical (e.g., [One-way ANOVA test](https://en.wikipedia.org/wiki/F-test#One-way_ANOVA_example)) values.\n",
    "\n",
    "The output will be a matrix if pairwise correlations. It is common, to visualize such data in a heatmap (images below).\n",
    "\n",
    "* Calculate the correlation of the numerical columns using pandas `corr()`, using Pearson correlation (this is the default of the function).\n",
    "* Create a heatmap showing the values. The data format output by `corr()` might not be very useful. Look for example at [pandas `stack()`](https://pandas.pydata.org/pandas-docs/stable/reference/api/pandas.DataFrame.stack.html) for possible ways to transforma the data into a typical dataframe.\n",
    "* A heatmap uses x and y position for the attributes and color for the value, choose a fitting colormap and **justify it below in 50 words or less**. (Note: the color chosen in the example below might or might not be good. Do **not** use the example to justify your choice.)\n",
    "* Make sure the chart is legible by adding axes, legends, a color bar, or similar. It is up to you to decide what is needed.\n",
    "\n",
    "We have now visualized one possible correlation. We want to extend our chart to be able to switch between the Pearson and Spearman correlation interactively using a dropdown menu directly in the chart.\n",
    "* Add a `Select` dropdown with the two options.\n",
    "* Calculate both correlation values and add a plot for each to your figure.\n",
    "* Use `js_on_change` on the added Select to add code to switch between the two plot\n",
    "\n",
    "[<img src=\"assets/heatmap.png\" alt=\"Heatmap showing correlations\" width=\"500\"/>](assets/heatmap.png)\n",
    "[<img src=\"assets/heatmap_select.png\" alt=\"Heatmap showing correlations with open selection widget\" width=\"500\"/>](assets/heatmap_select.png)"
   ]
  },
  {
   "cell_type": "code",
   "execution_count": null,
   "metadata": {
    "deletable": false,
    "nbgrader": {
     "cell_type": "code",
     "checksum": "4740c058b991fc4e31c01e1af2e5ff3c",
     "grade": true,
     "grade_id": "cell-4c5b9a04cacbd5b6",
     "locked": false,
     "points": 1,
     "schema_version": 3,
     "solution": true,
     "task": false
    }
   },
   "outputs": [],
   "source": [
    "# We calculate both matrices\n",
    "correlation_matrices = {\n",
    "    \"pearson\": data.corr(numeric_only = True, method=\"pearson\"),\n",
    "    \"spearman\": data.corr(numeric_only = True, method=\"spearman\")\n",
    "}\n",
    "\n",
    "# this is the default correlation method\n",
    "correlation_method = \"spearman\"\n",
    "\n",
    "# YOUR CODE HERE\n",
    "raise NotImplementedError()"
   ]
  },
  {
   "cell_type": "markdown",
   "metadata": {
    "deletable": false,
    "editable": false,
    "nbgrader": {
     "cell_type": "markdown",
     "checksum": "69ebe8766953ab554722e6b213c5fb38",
     "grade": false,
     "grade_id": "cell-c1021798b8c99f4f",
     "locked": true,
     "schema_version": 3,
     "solution": false,
     "task": false
    }
   },
   "source": [
    "#### Response: Justification for colormap\n",
    "**_Add your justification for the choice of colormap below._**"
   ]
  },
  {
   "cell_type": "markdown",
   "metadata": {
    "deletable": false,
    "jp-MarkdownHeadingCollapsed": true,
    "nbgrader": {
     "cell_type": "markdown",
     "checksum": "781dac7a9c0ff1795b2209fb54bb0dbd",
     "grade": true,
     "grade_id": "cell-91d9bcc1809ea447",
     "locked": false,
     "points": 1,
     "schema_version": 3,
     "solution": true,
     "task": false
    }
   },
   "source": [
    "YOUR ANSWER HERE"
   ]
  },
  {
   "cell_type": "markdown",
   "metadata": {
    "deletable": false,
    "editable": false,
    "nbgrader": {
     "cell_type": "markdown",
     "checksum": "d4e420b7795c42638a7d220ed4f7a63b",
     "grade": false,
     "grade_id": "cell-29d5e05ab7a97357",
     "locked": true,
     "schema_version": 3,
     "solution": false,
     "task": false
    }
   },
   "source": [
    "### Assignment V.3 (5 points)\n",
    "\n",
    "Correlation in detail.\n",
    "\n",
    "Pick the any two numerical and one categorical column from the dataset. We already extract the names of the first two numerical and first categorical columns below, the easiest is to just use those. You can make these also user-selectable like in the previous assignment, but you do not have to for this assignment. (Remenber that we might test this with a different dataset, so do not pick by name.)\n",
    "\n",
    "The goal here is to visualize the complete data of the selected columns to get more detail on the correlation. We will proceed in two steps again.\n",
    "\n",
    "In the first step, create a scatterplot to visualize the selected columns.\n",
    "* A scatterplot is a common representation, bokeh provides it using `scatter`.\n",
    "* Use the x and y axes for the numerical values.\n",
    "* Choose a proper encoding for the categorical column and  **justify** it in the field below the code **in 50 words or less**. (Note: this encoding was omitted in the example figure below.)\n",
    "* Make sure the chart is legible by adjusting mark sizes, adding axes, legends, a color bar, or similar, etc. It is up to you to decide what is needed.\n",
    "\n",
    "Even with putting in a lot of effort, you will notice that there will be a lot of overplotting, even with 'just' ~50k points in the dataset. In the example below, you see iso-density lines added to show how the points distribute. We have already added the `kde` function to [estimate the density.](https://en.wikipedia.org/wiki/Multivariate_kernel_density_estimation) Use this to calculate the point density. This is taken from an [example in the Bokeh documenation](https://docs.bokeh.org/en/latest/docs/examples/topics/stats/kde2d.html). Look at the [example](https://docs.bokeh.org/en/latest/docs/examples/topics/stats/kde2d.html) and adjust it to your needs.\n",
    "* Add the density information to your plot.\n",
    "\n",
    "[<img src=\"assets/scatterplot.png\" alt=\"Scatterplot with density indicator\" width=\"700\"/>](assets/scatterplot.png)"
   ]
  },
  {
   "cell_type": "code",
   "execution_count": null,
   "metadata": {
    "deletable": false,
    "nbgrader": {
     "cell_type": "code",
     "checksum": "537379c98a71467af8a5f4b2a068537d",
     "grade": true,
     "grade_id": "cell-95b2494ed394bbc1",
     "locked": false,
     "points": 1,
     "schema_version": 3,
     "solution": true,
     "task": false
    }
   },
   "outputs": [],
   "source": [
    "# kde calculation taken from https://docs.bokeh.org/en/latest/docs/examples/topics/stats/kde2d.html\n",
    "# look at the example on how it is used. You can use the plot code also for inspiration, but make sure to adjust it for proper results\n",
    "# note, N is the kernel size, larger values will make this lengthy to calculate but give more smooth results.\n",
    "# When you use it consider using small values for N during testing.\n",
    "def kde(x, y, N):\n",
    "    \n",
    "    xmin, xmax = x.min(), x.max()\n",
    "    ymin, ymax = y.min(), y.max()\n",
    "\n",
    "    X, Y = np.mgrid[xmin:xmax:N*1j, ymin:ymax:N*1j]\n",
    "    positions = np.vstack([X.ravel(), Y.ravel()])\n",
    "    values = np.vstack([x, y])\n",
    "    kernel = gaussian_kde(values)\n",
    "    Z = np.reshape(kernel(positions).T, X.shape)\n",
    "\n",
    "    return X, Y, Z\n",
    "\n",
    "# we extract the names of the first two numerical columns\n",
    "num_cols = []\n",
    "num_cols.append(data.select_dtypes(include=\"number\").columns[0])\n",
    "num_cols.append(data.select_dtypes(include=\"number\").columns[1])\n",
    "# and the first categorical column.\n",
    "cat_col = data.select_dtypes(include=[\"object\", \"category\"]).columns[0]\n",
    "# You can just use the above columns to set up your visualization. Feel free to change these for testing.\n",
    "# For the submission, you can safely assume that at least 2 numerical and 1 categorical columns are available in the dataset.\n",
    "\n",
    "# YOUR CODE HERE\n",
    "raise NotImplementedError()"
   ]
  },
  {
   "cell_type": "markdown",
   "metadata": {
    "deletable": false,
    "editable": false,
    "nbgrader": {
     "cell_type": "markdown",
     "checksum": "0497e9409d7dad626b24ca1cead7d5fb",
     "grade": false,
     "grade_id": "cell-8bbfc2c04a47d9e6",
     "locked": true,
     "schema_version": 3,
     "solution": false,
     "task": false
    }
   },
   "source": [
    "#### Response: Justification for categorical data encoding\n",
    "**_Add your justification for the choice of encoding here!_**"
   ]
  },
  {
   "cell_type": "markdown",
   "metadata": {
    "deletable": false,
    "nbgrader": {
     "cell_type": "markdown",
     "checksum": "5c83b68a720d5a2ceecb1de21e17306f",
     "grade": true,
     "grade_id": "cell-bf1780567d38a2ae",
     "locked": false,
     "points": 1,
     "schema_version": 3,
     "solution": true,
     "task": false
    }
   },
   "source": [
    "YOUR ANSWER HERE"
   ]
  },
  {
   "cell_type": "markdown",
   "metadata": {
    "deletable": false,
    "editable": false,
    "nbgrader": {
     "cell_type": "markdown",
     "checksum": "e2fcfeb865f2ceae41618c6c52adf053",
     "grade": false,
     "grade_id": "cell-0c08de0cf04b2354",
     "locked": true,
     "schema_version": 3,
     "solution": false,
     "task": false
    }
   },
   "source": [
    "### Assignment V.4 (10 points)\n",
    "\n",
    "Interactive exploration\n",
    "\n",
    "In this final assignment we want to do some true interactive exploration harnessing the power of Bokeh. This might allow us to identify patterns related to specific subsets of the data.\n",
    "You have two options to proceed, based on your previous results. The below descriptions are minimal solutions, feel free to go beyond the suggested functionality, if you deem it useful=. If you do so add a brief list of what you added in the textfield below.\n",
    "\n",
    "#### Pick one of the the following options:\n",
    "\n",
    "1. Use the result of **Assignment V.1** and extend it such that you can explore subsets of the data based on selection in one of the histograms. I.e.,\n",
    "   * Make it possible to select any subset of the data by clicking the corresponding bar in any of the bar chart. E.g., clicking on the *Bachelors* bar in the *Education* chart should select all datapoints, where the value of Education is Bachelors.\n",
    "   * highlight the selection in all charts (while keeping the full dataset). E.g., render a second bar corresponding to the fraction of the corresponding points with in a different color on top of the original bar.\n",
    "<br/><br/>\n",
    "2. Combine the results of **Assignment V.2** and **Assignment V.3** to an interactive overview+detail plot and allow filtering the scatterplot to show only selected categories of the categorical column.\n",
    "   * Show both plots next to each other in a grid.\n",
    "   * Allow seleciton of the numerical columns in the scatterplot by clicking on a cell in the heatmap.\n",
    "   * Allow selection of the categorical column (e.g., by a dropdown, as in Assignment V.2).\n",
    "   * Add a way to select one or multiple values of the categorical coloumn and filter the scatterplot based on those. E.g., Plot only the datapoints where *Education* equals *Bachelors*, when Education is selected as the categorical variable of the plot.\n",
    "\n",
    "#### Some possibly useful hints:\n",
    "* Check out **TapTool** for more information on enabling clicking events on plots\n",
    "* Have a look at **CDSView** for one possible way to filter out a subset of data on a plot\n",
    "* [Enabling click callbacks on bars](https://docs.bokeh.org/en/2.4.3/docs/user_guide/tools.html#setting-the-active-tools)\n",
    "* [Getting clicked bar index in callback functions](https://discourse.bokeh.org/t/a-different-plot-in-another-figure-when-a-bar-of-a-barchart-is-clicked/8572/2)\n",
    "* m[Apply hover tools to plots](https://stackoverflow.com/questions/29435200/bokeh-plotting-enable-tooltips-for-only-some-glyphs)"
   ]
  },
  {
   "cell_type": "code",
   "execution_count": null,
   "metadata": {
    "deletable": false,
    "nbgrader": {
     "cell_type": "code",
     "checksum": "7f864b794eb18a85b3f750ee88dac2ec",
     "grade": true,
     "grade_id": "cell-79ca8433ebe44f84",
     "locked": false,
     "points": 4,
     "schema_version": 3,
     "solution": true,
     "task": false
    }
   },
   "outputs": [],
   "source": [
    "# YOUR CODE HERE\n",
    "raise NotImplementedError()"
   ]
  },
  {
   "cell_type": "markdown",
   "metadata": {
    "deletable": false,
    "nbgrader": {
     "cell_type": "markdown",
     "checksum": "5b982ad3e15e28ab05d31add5d4496e7",
     "grade": true,
     "grade_id": "cell-2092ded3390c4c86",
     "locked": false,
     "points": 0,
     "schema_version": 3,
     "solution": true,
     "task": false
    }
   },
   "source": [
    "YOUR ANSWER HERE"
   ]
  }
 ],
 "metadata": {
  "kernelspec": {
   "display_name": "Python 3 (ipykernel)",
   "language": "python",
   "name": "python3"
  },
  "language_info": {
   "codemirror_mode": {
    "name": "ipython",
    "version": 3
   },
   "file_extension": ".py",
   "mimetype": "text/x-python",
   "name": "python",
   "nbconvert_exporter": "python",
   "pygments_lexer": "ipython3",
   "version": "3.12.4"
  }
 },
 "nbformat": 4,
 "nbformat_minor": 4
}
